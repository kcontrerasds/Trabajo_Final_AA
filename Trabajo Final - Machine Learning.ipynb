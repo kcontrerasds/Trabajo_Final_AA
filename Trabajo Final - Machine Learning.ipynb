{
 "cells": [
  {
   "cell_type": "code",
   "execution_count": 1,
   "id": "06cf3324",
   "metadata": {},
   "outputs": [],
   "source": [
    "# Bibliotecas \n",
    "import pandas as pd\n",
    "import torch as torch\n",
    "import numpy as np\n",
    "import math\n",
    "import requests\n",
    "import random\n",
    "import seaborn as sns\n",
    "\n",
    "from mpl_toolkits import mplot3d\n",
    "from sklearn.preprocessing import MinMaxScaler\n",
    "from sklearn.model_selection import train_test_split\n",
    "from sklearn.preprocessing import StandardScaler\n",
    "from sklearn.tree import DecisionTreeClassifier\n",
    "from sklearn.metrics import confusion_matrix\n",
    "from sklearn.ensemble import RandomForestClassifier  \n",
    "from sklearn import preprocessing\n",
    "from sklearn import utils\n",
    "from matplotlib.colors import ListedColormap \n",
    "import datetime as dt\n",
    "from numpy import arange\n",
    "import matplotlib.pyplot as plt\n",
    "from pandas import read_csv\n",
    "from sklearn import metrics\n",
    "from sklearn.model_selection import train_test_split\n",
    "from sklearn.ensemble import RandomForestRegressor\n",
    "from sklearn.preprocessing import StandardScaler\n",
    "from sklearn.model_selection import RandomizedSearchCV\n",
    "from sklearn.ensemble import GradientBoostingRegressor\n",
    "from scipy.stats import uniform as sp_randFloat\n",
    "from scipy.stats import randint as sp_randInt\n",
    "import plotly.express as pt\n",
    "\n",
    "from sklearn.metrics import mean_squared_error\n",
    "from sklearn.metrics import mean_absolute_percentage_error\n",
    "\n",
    "import warnings\n",
    "warnings.filterwarnings(\"ignore\")"
   ]
  },
  {
   "cell_type": "markdown",
   "id": "5e6e07f8",
   "metadata": {},
   "source": [
    "## Descripción del conjunto de Datos:\n",
    "\n",
    "Se escogió el conjunto de datos de del precio historico de las acciones de la compañía Tesla, Inc., interesa por la volitidad del precio y volumen de dispersión, desde 2010 al 2020. El dataset incluye las siguientes variables.\n",
    "\n",
    "- Date: Fecha diaria donde se describen los distintos precios alcanzados.\n",
    "- Open: Precio de apertura correspendiente a un día especifico.\n",
    "- High: Precio más alto que la acción alcanzó en un día determinado.\n",
    "- Low:  Precio más bajo que la acción alcanzó en un día determinado.\n",
    "- Adj Close: Último precio antes del precio de cierre.\n",
    "- Volume: Variable que mide el número de negociaciones de la acción en un día \n",
    "\n",
    "Se buscará predecir a través de un modelo de regresión el precio de venta y compra para un día especifico. El dataset puede ser encontrado en https://www.kaggle.com/datasets/timoboz/tesla-stock-data-from-2010-to-2020."
   ]
  },
  {
   "cell_type": "markdown",
   "id": "c6e68beb",
   "metadata": {},
   "source": [
    "## Preprocesado"
   ]
  },
  {
   "cell_type": "code",
   "execution_count": 2,
   "id": "3b92d59e",
   "metadata": {},
   "outputs": [],
   "source": [
    "df = pd.read_csv('TSLA.csv')"
   ]
  },
  {
   "cell_type": "code",
   "execution_count": 3,
   "id": "f05179b5",
   "metadata": {},
   "outputs": [
    {
     "data": {
      "text/html": [
       "<div>\n",
       "<style scoped>\n",
       "    .dataframe tbody tr th:only-of-type {\n",
       "        vertical-align: middle;\n",
       "    }\n",
       "\n",
       "    .dataframe tbody tr th {\n",
       "        vertical-align: top;\n",
       "    }\n",
       "\n",
       "    .dataframe thead th {\n",
       "        text-align: right;\n",
       "    }\n",
       "</style>\n",
       "<table border=\"1\" class=\"dataframe\">\n",
       "  <thead>\n",
       "    <tr style=\"text-align: right;\">\n",
       "      <th></th>\n",
       "      <th>Date</th>\n",
       "      <th>Open</th>\n",
       "      <th>High</th>\n",
       "      <th>Low</th>\n",
       "      <th>Close</th>\n",
       "      <th>Adj Close</th>\n",
       "      <th>Volume</th>\n",
       "    </tr>\n",
       "  </thead>\n",
       "  <tbody>\n",
       "    <tr>\n",
       "      <th>0</th>\n",
       "      <td>2010-06-29</td>\n",
       "      <td>19.000000</td>\n",
       "      <td>25.00</td>\n",
       "      <td>17.540001</td>\n",
       "      <td>23.889999</td>\n",
       "      <td>23.889999</td>\n",
       "      <td>18766300</td>\n",
       "    </tr>\n",
       "    <tr>\n",
       "      <th>1</th>\n",
       "      <td>2010-06-30</td>\n",
       "      <td>25.790001</td>\n",
       "      <td>30.42</td>\n",
       "      <td>23.299999</td>\n",
       "      <td>23.830000</td>\n",
       "      <td>23.830000</td>\n",
       "      <td>17187100</td>\n",
       "    </tr>\n",
       "    <tr>\n",
       "      <th>2</th>\n",
       "      <td>2010-07-01</td>\n",
       "      <td>25.000000</td>\n",
       "      <td>25.92</td>\n",
       "      <td>20.270000</td>\n",
       "      <td>21.959999</td>\n",
       "      <td>21.959999</td>\n",
       "      <td>8218800</td>\n",
       "    </tr>\n",
       "    <tr>\n",
       "      <th>3</th>\n",
       "      <td>2010-07-02</td>\n",
       "      <td>23.000000</td>\n",
       "      <td>23.10</td>\n",
       "      <td>18.709999</td>\n",
       "      <td>19.200001</td>\n",
       "      <td>19.200001</td>\n",
       "      <td>5139800</td>\n",
       "    </tr>\n",
       "    <tr>\n",
       "      <th>4</th>\n",
       "      <td>2010-07-06</td>\n",
       "      <td>20.000000</td>\n",
       "      <td>20.00</td>\n",
       "      <td>15.830000</td>\n",
       "      <td>16.110001</td>\n",
       "      <td>16.110001</td>\n",
       "      <td>6866900</td>\n",
       "    </tr>\n",
       "  </tbody>\n",
       "</table>\n",
       "</div>"
      ],
      "text/plain": [
       "         Date       Open   High        Low      Close  Adj Close    Volume\n",
       "0  2010-06-29  19.000000  25.00  17.540001  23.889999  23.889999  18766300\n",
       "1  2010-06-30  25.790001  30.42  23.299999  23.830000  23.830000  17187100\n",
       "2  2010-07-01  25.000000  25.92  20.270000  21.959999  21.959999   8218800\n",
       "3  2010-07-02  23.000000  23.10  18.709999  19.200001  19.200001   5139800\n",
       "4  2010-07-06  20.000000  20.00  15.830000  16.110001  16.110001   6866900"
      ]
     },
     "execution_count": 3,
     "metadata": {},
     "output_type": "execute_result"
    }
   ],
   "source": [
    "df.head()"
   ]
  },
  {
   "cell_type": "code",
   "execution_count": 4,
   "id": "95ed890f",
   "metadata": {},
   "outputs": [
    {
     "data": {
      "text/html": [
       "<div>\n",
       "<style scoped>\n",
       "    .dataframe tbody tr th:only-of-type {\n",
       "        vertical-align: middle;\n",
       "    }\n",
       "\n",
       "    .dataframe tbody tr th {\n",
       "        vertical-align: top;\n",
       "    }\n",
       "\n",
       "    .dataframe thead th {\n",
       "        text-align: right;\n",
       "    }\n",
       "</style>\n",
       "<table border=\"1\" class=\"dataframe\">\n",
       "  <thead>\n",
       "    <tr style=\"text-align: right;\">\n",
       "      <th></th>\n",
       "      <th>Date</th>\n",
       "      <th>Open</th>\n",
       "      <th>High</th>\n",
       "      <th>Low</th>\n",
       "      <th>Close</th>\n",
       "      <th>Adj Close</th>\n",
       "      <th>Volume</th>\n",
       "    </tr>\n",
       "  </thead>\n",
       "  <tbody>\n",
       "    <tr>\n",
       "      <th>2411</th>\n",
       "      <td>2020-01-28</td>\n",
       "      <td>568.489990</td>\n",
       "      <td>576.809998</td>\n",
       "      <td>558.080017</td>\n",
       "      <td>566.900024</td>\n",
       "      <td>566.900024</td>\n",
       "      <td>11788500</td>\n",
       "    </tr>\n",
       "    <tr>\n",
       "      <th>2412</th>\n",
       "      <td>2020-01-29</td>\n",
       "      <td>575.690002</td>\n",
       "      <td>589.799988</td>\n",
       "      <td>567.429993</td>\n",
       "      <td>580.989990</td>\n",
       "      <td>580.989990</td>\n",
       "      <td>17801500</td>\n",
       "    </tr>\n",
       "    <tr>\n",
       "      <th>2413</th>\n",
       "      <td>2020-01-30</td>\n",
       "      <td>632.419983</td>\n",
       "      <td>650.880005</td>\n",
       "      <td>618.000000</td>\n",
       "      <td>640.809998</td>\n",
       "      <td>640.809998</td>\n",
       "      <td>29005700</td>\n",
       "    </tr>\n",
       "    <tr>\n",
       "      <th>2414</th>\n",
       "      <td>2020-01-31</td>\n",
       "      <td>640.000000</td>\n",
       "      <td>653.000000</td>\n",
       "      <td>632.520020</td>\n",
       "      <td>650.570007</td>\n",
       "      <td>650.570007</td>\n",
       "      <td>15719300</td>\n",
       "    </tr>\n",
       "    <tr>\n",
       "      <th>2415</th>\n",
       "      <td>2020-02-03</td>\n",
       "      <td>673.690002</td>\n",
       "      <td>786.140015</td>\n",
       "      <td>673.520020</td>\n",
       "      <td>780.000000</td>\n",
       "      <td>780.000000</td>\n",
       "      <td>47065000</td>\n",
       "    </tr>\n",
       "  </tbody>\n",
       "</table>\n",
       "</div>"
      ],
      "text/plain": [
       "            Date        Open        High         Low       Close   Adj Close  \\\n",
       "2411  2020-01-28  568.489990  576.809998  558.080017  566.900024  566.900024   \n",
       "2412  2020-01-29  575.690002  589.799988  567.429993  580.989990  580.989990   \n",
       "2413  2020-01-30  632.419983  650.880005  618.000000  640.809998  640.809998   \n",
       "2414  2020-01-31  640.000000  653.000000  632.520020  650.570007  650.570007   \n",
       "2415  2020-02-03  673.690002  786.140015  673.520020  780.000000  780.000000   \n",
       "\n",
       "        Volume  \n",
       "2411  11788500  \n",
       "2412  17801500  \n",
       "2413  29005700  \n",
       "2414  15719300  \n",
       "2415  47065000  "
      ]
     },
     "execution_count": 4,
     "metadata": {},
     "output_type": "execute_result"
    }
   ],
   "source": [
    "df.tail()"
   ]
  },
  {
   "cell_type": "code",
   "execution_count": 5,
   "id": "fc075b44",
   "metadata": {},
   "outputs": [
    {
     "data": {
      "text/html": [
       "<div>\n",
       "<style scoped>\n",
       "    .dataframe tbody tr th:only-of-type {\n",
       "        vertical-align: middle;\n",
       "    }\n",
       "\n",
       "    .dataframe tbody tr th {\n",
       "        vertical-align: top;\n",
       "    }\n",
       "\n",
       "    .dataframe thead th {\n",
       "        text-align: right;\n",
       "    }\n",
       "</style>\n",
       "<table border=\"1\" class=\"dataframe\">\n",
       "  <thead>\n",
       "    <tr style=\"text-align: right;\">\n",
       "      <th></th>\n",
       "      <th>Open</th>\n",
       "      <th>High</th>\n",
       "      <th>Low</th>\n",
       "      <th>Close</th>\n",
       "      <th>Adj Close</th>\n",
       "      <th>Volume</th>\n",
       "    </tr>\n",
       "  </thead>\n",
       "  <tbody>\n",
       "    <tr>\n",
       "      <th>count</th>\n",
       "      <td>2416.000000</td>\n",
       "      <td>2416.000000</td>\n",
       "      <td>2416.000000</td>\n",
       "      <td>2416.000000</td>\n",
       "      <td>2416.000000</td>\n",
       "      <td>2.416000e+03</td>\n",
       "    </tr>\n",
       "    <tr>\n",
       "      <th>mean</th>\n",
       "      <td>186.271147</td>\n",
       "      <td>189.578224</td>\n",
       "      <td>182.916639</td>\n",
       "      <td>186.403651</td>\n",
       "      <td>186.403651</td>\n",
       "      <td>5.572722e+06</td>\n",
       "    </tr>\n",
       "    <tr>\n",
       "      <th>std</th>\n",
       "      <td>118.740163</td>\n",
       "      <td>120.892329</td>\n",
       "      <td>116.857591</td>\n",
       "      <td>119.136020</td>\n",
       "      <td>119.136020</td>\n",
       "      <td>4.987809e+06</td>\n",
       "    </tr>\n",
       "    <tr>\n",
       "      <th>min</th>\n",
       "      <td>16.139999</td>\n",
       "      <td>16.629999</td>\n",
       "      <td>14.980000</td>\n",
       "      <td>15.800000</td>\n",
       "      <td>15.800000</td>\n",
       "      <td>1.185000e+05</td>\n",
       "    </tr>\n",
       "    <tr>\n",
       "      <th>25%</th>\n",
       "      <td>34.342498</td>\n",
       "      <td>34.897501</td>\n",
       "      <td>33.587501</td>\n",
       "      <td>34.400002</td>\n",
       "      <td>34.400002</td>\n",
       "      <td>1.899275e+06</td>\n",
       "    </tr>\n",
       "    <tr>\n",
       "      <th>50%</th>\n",
       "      <td>213.035004</td>\n",
       "      <td>216.745002</td>\n",
       "      <td>208.870002</td>\n",
       "      <td>212.960007</td>\n",
       "      <td>212.960007</td>\n",
       "      <td>4.578400e+06</td>\n",
       "    </tr>\n",
       "    <tr>\n",
       "      <th>75%</th>\n",
       "      <td>266.450012</td>\n",
       "      <td>270.927513</td>\n",
       "      <td>262.102501</td>\n",
       "      <td>266.774994</td>\n",
       "      <td>266.774994</td>\n",
       "      <td>7.361150e+06</td>\n",
       "    </tr>\n",
       "    <tr>\n",
       "      <th>max</th>\n",
       "      <td>673.690002</td>\n",
       "      <td>786.140015</td>\n",
       "      <td>673.520020</td>\n",
       "      <td>780.000000</td>\n",
       "      <td>780.000000</td>\n",
       "      <td>4.706500e+07</td>\n",
       "    </tr>\n",
       "  </tbody>\n",
       "</table>\n",
       "</div>"
      ],
      "text/plain": [
       "              Open         High          Low        Close    Adj Close  \\\n",
       "count  2416.000000  2416.000000  2416.000000  2416.000000  2416.000000   \n",
       "mean    186.271147   189.578224   182.916639   186.403651   186.403651   \n",
       "std     118.740163   120.892329   116.857591   119.136020   119.136020   \n",
       "min      16.139999    16.629999    14.980000    15.800000    15.800000   \n",
       "25%      34.342498    34.897501    33.587501    34.400002    34.400002   \n",
       "50%     213.035004   216.745002   208.870002   212.960007   212.960007   \n",
       "75%     266.450012   270.927513   262.102501   266.774994   266.774994   \n",
       "max     673.690002   786.140015   673.520020   780.000000   780.000000   \n",
       "\n",
       "             Volume  \n",
       "count  2.416000e+03  \n",
       "mean   5.572722e+06  \n",
       "std    4.987809e+06  \n",
       "min    1.185000e+05  \n",
       "25%    1.899275e+06  \n",
       "50%    4.578400e+06  \n",
       "75%    7.361150e+06  \n",
       "max    4.706500e+07  "
      ]
     },
     "execution_count": 5,
     "metadata": {},
     "output_type": "execute_result"
    }
   ],
   "source": [
    "df_describe = pd.DataFrame(df)\n",
    "df_describe.describe()"
   ]
  },
  {
   "cell_type": "code",
   "execution_count": 6,
   "id": "6db26d90",
   "metadata": {},
   "outputs": [
    {
     "data": {
      "text/plain": [
       "['Date', 'Open', 'High', 'Low', 'Close', 'Adj Close', 'Volume']"
      ]
     },
     "execution_count": 6,
     "metadata": {},
     "output_type": "execute_result"
    }
   ],
   "source": [
    "list(df.columns.values)"
   ]
  },
  {
   "cell_type": "code",
   "execution_count": 7,
   "id": "2afc9f35",
   "metadata": {},
   "outputs": [
    {
     "data": {
      "text/plain": [
       "Date         0\n",
       "Open         0\n",
       "High         0\n",
       "Low          0\n",
       "Close        0\n",
       "Adj Close    0\n",
       "Volume       0\n",
       "dtype: int64"
      ]
     },
     "execution_count": 7,
     "metadata": {},
     "output_type": "execute_result"
    }
   ],
   "source": [
    "df.isnull().sum()"
   ]
  },
  {
   "cell_type": "code",
   "execution_count": 8,
   "id": "95cf6477",
   "metadata": {},
   "outputs": [
    {
     "data": {
      "text/plain": [
       "Date          object\n",
       "Open         float64\n",
       "High         float64\n",
       "Low          float64\n",
       "Close        float64\n",
       "Adj Close    float64\n",
       "Volume         int64\n",
       "dtype: object"
      ]
     },
     "execution_count": 8,
     "metadata": {},
     "output_type": "execute_result"
    }
   ],
   "source": [
    "df.dtypes"
   ]
  },
  {
   "cell_type": "code",
   "execution_count": 9,
   "id": "b184ce56",
   "metadata": {},
   "outputs": [
    {
     "data": {
      "text/html": [
       "<div>\n",
       "<style scoped>\n",
       "    .dataframe tbody tr th:only-of-type {\n",
       "        vertical-align: middle;\n",
       "    }\n",
       "\n",
       "    .dataframe tbody tr th {\n",
       "        vertical-align: top;\n",
       "    }\n",
       "\n",
       "    .dataframe thead th {\n",
       "        text-align: right;\n",
       "    }\n",
       "</style>\n",
       "<table border=\"1\" class=\"dataframe\">\n",
       "  <thead>\n",
       "    <tr style=\"text-align: right;\">\n",
       "      <th></th>\n",
       "      <th>Date</th>\n",
       "      <th>Open</th>\n",
       "      <th>High</th>\n",
       "      <th>Low</th>\n",
       "      <th>Close</th>\n",
       "      <th>Adj Close</th>\n",
       "    </tr>\n",
       "  </thead>\n",
       "  <tbody>\n",
       "    <tr>\n",
       "      <th>0</th>\n",
       "      <td>2010-06-29</td>\n",
       "      <td>19.000000</td>\n",
       "      <td>25.000000</td>\n",
       "      <td>17.540001</td>\n",
       "      <td>23.889999</td>\n",
       "      <td>23.889999</td>\n",
       "    </tr>\n",
       "    <tr>\n",
       "      <th>1</th>\n",
       "      <td>2010-06-30</td>\n",
       "      <td>25.790001</td>\n",
       "      <td>30.420000</td>\n",
       "      <td>23.299999</td>\n",
       "      <td>23.830000</td>\n",
       "      <td>23.830000</td>\n",
       "    </tr>\n",
       "    <tr>\n",
       "      <th>2</th>\n",
       "      <td>2010-07-01</td>\n",
       "      <td>25.000000</td>\n",
       "      <td>25.920000</td>\n",
       "      <td>20.270000</td>\n",
       "      <td>21.959999</td>\n",
       "      <td>21.959999</td>\n",
       "    </tr>\n",
       "    <tr>\n",
       "      <th>3</th>\n",
       "      <td>2010-07-02</td>\n",
       "      <td>23.000000</td>\n",
       "      <td>23.100000</td>\n",
       "      <td>18.709999</td>\n",
       "      <td>19.200001</td>\n",
       "      <td>19.200001</td>\n",
       "    </tr>\n",
       "    <tr>\n",
       "      <th>4</th>\n",
       "      <td>2010-07-06</td>\n",
       "      <td>20.000000</td>\n",
       "      <td>20.000000</td>\n",
       "      <td>15.830000</td>\n",
       "      <td>16.110001</td>\n",
       "      <td>16.110001</td>\n",
       "    </tr>\n",
       "    <tr>\n",
       "      <th>...</th>\n",
       "      <td>...</td>\n",
       "      <td>...</td>\n",
       "      <td>...</td>\n",
       "      <td>...</td>\n",
       "      <td>...</td>\n",
       "      <td>...</td>\n",
       "    </tr>\n",
       "    <tr>\n",
       "      <th>2411</th>\n",
       "      <td>2020-01-28</td>\n",
       "      <td>568.489990</td>\n",
       "      <td>576.809998</td>\n",
       "      <td>558.080017</td>\n",
       "      <td>566.900024</td>\n",
       "      <td>566.900024</td>\n",
       "    </tr>\n",
       "    <tr>\n",
       "      <th>2412</th>\n",
       "      <td>2020-01-29</td>\n",
       "      <td>575.690002</td>\n",
       "      <td>589.799988</td>\n",
       "      <td>567.429993</td>\n",
       "      <td>580.989990</td>\n",
       "      <td>580.989990</td>\n",
       "    </tr>\n",
       "    <tr>\n",
       "      <th>2413</th>\n",
       "      <td>2020-01-30</td>\n",
       "      <td>632.419983</td>\n",
       "      <td>650.880005</td>\n",
       "      <td>618.000000</td>\n",
       "      <td>640.809998</td>\n",
       "      <td>640.809998</td>\n",
       "    </tr>\n",
       "    <tr>\n",
       "      <th>2414</th>\n",
       "      <td>2020-01-31</td>\n",
       "      <td>640.000000</td>\n",
       "      <td>653.000000</td>\n",
       "      <td>632.520020</td>\n",
       "      <td>650.570007</td>\n",
       "      <td>650.570007</td>\n",
       "    </tr>\n",
       "    <tr>\n",
       "      <th>2415</th>\n",
       "      <td>2020-02-03</td>\n",
       "      <td>673.690002</td>\n",
       "      <td>786.140015</td>\n",
       "      <td>673.520020</td>\n",
       "      <td>780.000000</td>\n",
       "      <td>780.000000</td>\n",
       "    </tr>\n",
       "  </tbody>\n",
       "</table>\n",
       "<p>2416 rows × 6 columns</p>\n",
       "</div>"
      ],
      "text/plain": [
       "            Date        Open        High         Low       Close   Adj Close\n",
       "0     2010-06-29   19.000000   25.000000   17.540001   23.889999   23.889999\n",
       "1     2010-06-30   25.790001   30.420000   23.299999   23.830000   23.830000\n",
       "2     2010-07-01   25.000000   25.920000   20.270000   21.959999   21.959999\n",
       "3     2010-07-02   23.000000   23.100000   18.709999   19.200001   19.200001\n",
       "4     2010-07-06   20.000000   20.000000   15.830000   16.110001   16.110001\n",
       "...          ...         ...         ...         ...         ...         ...\n",
       "2411  2020-01-28  568.489990  576.809998  558.080017  566.900024  566.900024\n",
       "2412  2020-01-29  575.690002  589.799988  567.429993  580.989990  580.989990\n",
       "2413  2020-01-30  632.419983  650.880005  618.000000  640.809998  640.809998\n",
       "2414  2020-01-31  640.000000  653.000000  632.520020  650.570007  650.570007\n",
       "2415  2020-02-03  673.690002  786.140015  673.520020  780.000000  780.000000\n",
       "\n",
       "[2416 rows x 6 columns]"
      ]
     },
     "execution_count": 9,
     "metadata": {},
     "output_type": "execute_result"
    }
   ],
   "source": [
    "df.drop(['Volume'], axis=1)"
   ]
  },
  {
   "cell_type": "code",
   "execution_count": 10,
   "id": "35897558",
   "metadata": {},
   "outputs": [
    {
     "data": {
      "text/plain": [
       "['Date', 'Open', 'High', 'Low', 'Close', 'Adj Close', 'Volume']"
      ]
     },
     "execution_count": 10,
     "metadata": {},
     "output_type": "execute_result"
    }
   ],
   "source": [
    "list(df.columns.values)"
   ]
  },
  {
   "cell_type": "code",
   "execution_count": 11,
   "id": "cc826a5e",
   "metadata": {},
   "outputs": [],
   "source": [
    "df.set_index(\"Date\", inplace=True)\n",
    "df.dropna(inplace=True)"
   ]
  },
  {
   "cell_type": "code",
   "execution_count": 12,
   "id": "b95738ac",
   "metadata": {},
   "outputs": [
    {
     "name": "stdout",
     "output_type": "stream",
     "text": [
      "<class 'pandas.core.frame.DataFrame'>\n",
      "Index: 2416 entries, 2010-06-29 to 2020-02-03\n",
      "Data columns (total 6 columns):\n",
      " #   Column     Non-Null Count  Dtype  \n",
      "---  ------     --------------  -----  \n",
      " 0   Open       2416 non-null   float64\n",
      " 1   High       2416 non-null   float64\n",
      " 2   Low        2416 non-null   float64\n",
      " 3   Close      2416 non-null   float64\n",
      " 4   Adj Close  2416 non-null   float64\n",
      " 5   Volume     2416 non-null   int64  \n",
      "dtypes: float64(5), int64(1)\n",
      "memory usage: 132.1+ KB\n"
     ]
    }
   ],
   "source": [
    "df.info()"
   ]
  },
  {
   "cell_type": "code",
   "execution_count": 13,
   "id": "70ba155d",
   "metadata": {},
   "outputs": [
    {
     "data": {
      "text/plain": [
       "(2416, 6)"
      ]
     },
     "execution_count": 13,
     "metadata": {},
     "output_type": "execute_result"
    }
   ],
   "source": [
    "df.shape"
   ]
  },
  {
   "cell_type": "code",
   "execution_count": 14,
   "id": "632465c2",
   "metadata": {},
   "outputs": [
    {
     "data": {
      "text/plain": [
       "Index(['Open', 'High', 'Low', 'Close', 'Adj Close', 'Volume'], dtype='object')"
      ]
     },
     "execution_count": 14,
     "metadata": {},
     "output_type": "execute_result"
    }
   ],
   "source": [
    "df.columns"
   ]
  },
  {
   "cell_type": "code",
   "execution_count": 15,
   "id": "0fbc1725",
   "metadata": {},
   "outputs": [
    {
     "data": {
      "text/plain": [
       "2"
      ]
     },
     "execution_count": 15,
     "metadata": {},
     "output_type": "execute_result"
    }
   ],
   "source": [
    "df.ndim"
   ]
  },
  {
   "cell_type": "markdown",
   "id": "1d9fe48f",
   "metadata": {},
   "source": [
    "De acuerdo a la literatura disponible el volumen no es usado, dado que presenta valores muy extremos y que están implicitos la variciones de precio de las acciones, esto en torno al precio de apertura: \"Open\", precio de cierre \"Close\", precio máximos alcanzados durante el día: \"High, precios mínimos: \"Low\", y el precio de ajuste se refiere al último precio alcanzado antes del cierre, por lo cual la varianza de estos componentes son útiles para predecir el precio de cierre futuro."
   ]
  },
  {
   "cell_type": "code",
   "execution_count": 16,
   "id": "093667d1",
   "metadata": {},
   "outputs": [],
   "source": [
    "df.drop(['Volume'], axis=1, inplace=True)"
   ]
  },
  {
   "cell_type": "code",
   "execution_count": 17,
   "id": "2184a97b",
   "metadata": {},
   "outputs": [
    {
     "data": {
      "text/plain": [
       "Index(['Open', 'High', 'Low', 'Close', 'Adj Close'], dtype='object')"
      ]
     },
     "execution_count": 17,
     "metadata": {},
     "output_type": "execute_result"
    }
   ],
   "source": [
    "df.columns"
   ]
  },
  {
   "cell_type": "markdown",
   "id": "be2397ef",
   "metadata": {},
   "source": [
    "## EDA"
   ]
  },
  {
   "cell_type": "markdown",
   "id": "921c3525",
   "metadata": {},
   "source": [
    "## Diagrama de Pares: Observaciones\n",
    "\n",
    "Al relacionar los valores de las columnas de precio de apartura \"Open\", precio de cierre \"Close\", precio máximo alcanzado en el día \"High\", precio mínimo \"Low\", precio de cierre ajustado \"Adj Close\" vemos linealidad, lo que significa que los datos tienen una variación muy reducida y siguen la tendencia del movimiento sin valores extremos. Esto es diferente para las relaciones con el volumen, dado que el volumen es el número de acciones negociadas en ese día, por lo que vemos valores extremos que se alejan del grueso de datos en las partes superiores, respondiendo a la volatilidad particular por eventos en el mercado como noticias financieras o rumores acerca del valor futuro de ciertas acciones. "
   ]
  },
  {
   "cell_type": "code",
   "execution_count": 18,
   "id": "9e55eef3",
   "metadata": {},
   "outputs": [
    {
     "data": {
      "image/png": "[encoded data removed]",
      "text/plain": [
       "<Figure size 900x900 with 30 Axes>"
      ]
     },
     "metadata": {
      "needs_background": "light"
     },
     "output_type": "display_data"
    }
   ],
   "source": [
    "sns.pairplot(df);"
   ]
  },
  {
   "cell_type": "markdown",
   "id": "a06a2c6f",
   "metadata": {},
   "source": [
    "## Mapa de Calor: Observaciones\n",
    "\n",
    "Donde el número representa la línealidad y congruencia en el comportamiento de las acciones, sin valores extremos siguen la misma tendencia. Significa que hay correlación en la variables, lo que hace los datos útiles para ser usados en un modelo de apredizaje automático usando el algoritmo Random Forest. Las variables con menor relación son \"Open\" & \"Adj Close\", \"Open\" & \"Close\", teniendo esto en cuenta interesa conocer la varianza de las variables. "
   ]
  },
  {
   "cell_type": "code",
   "execution_count": 19,
   "id": "3ad45fa8",
   "metadata": {},
   "outputs": [
    {
     "data": {
      "image/png": "[encoded data removed]",
      "text/plain": [
       "<Figure size 1080x720 with 2 Axes>"
      ]
     },
     "metadata": {
      "needs_background": "light"
     },
     "output_type": "display_data"
    }
   ],
   "source": [
    "#Mapa de calor \n",
    "def correlation_heatmap(df1):\n",
    "    _,ax=plt.subplots(figsize=(15,10))\n",
    "    colormap=sns.diverging_palette(220,10,as_cmap=True)\n",
    "    sns.heatmap(df.corr(),annot=True,cmap=colormap)\n",
    "    \n",
    "correlation_heatmap(df)"
   ]
  },
  {
   "cell_type": "markdown",
   "id": "0987cb3c",
   "metadata": {},
   "source": [
    "## Desviación Estandar del precio de cierre\n",
    "\n",
    "La desviación estantar indica nos indica cuan dispersos están los datos. Se obtuvieron valores por debajo de 200, lo que indica una varianza pequeña, pero todos los valores mantiene magnitudes similares."
   ]
  },
  {
   "cell_type": "code",
   "execution_count": 51,
   "id": "af6c1cc1",
   "metadata": {},
   "outputs": [
    {
     "name": "stdout",
     "output_type": "stream",
     "text": [
      "========================================================\n",
      "Desviación estandar: variables de las acciones de Tesla\n",
      "Open         118.715587\n",
      "High         120.867307\n",
      "Low          116.833404\n",
      "Close        119.111362\n",
      "Adj Close    119.111362\n",
      "dtype: float64\n"
     ]
    }
   ],
   "source": [
    "print(\"========================================================\")\n",
    "print(\"Desviación estandar: variables de las acciones de Tesla\")\n",
    "sd_TSLA = np.std(df)\n",
    "print((sd_TSLA))"
   ]
  },
  {
   "cell_type": "markdown",
   "id": "734bad8b",
   "metadata": {},
   "source": [
    "## Modelo: Random Forest"
   ]
  },
  {
   "cell_type": "markdown",
   "id": "2380ec2d",
   "metadata": {},
   "source": [
    "Se escoge el algoritmo de Random Forest, dado al lado de Redes Neuronales, presenta resultados más exactos. Random Forest puede procesar problemas de clasificación y regresión."
   ]
  },
  {
   "cell_type": "markdown",
   "id": "63d0c363",
   "metadata": {},
   "source": [
    "### Paso 1:\n",
    "Seleccionar las columnas que son númericas y que sirven para entrenar el modelo, define los datos de prueba y entrenamiento, en este caso se escogieron los siguientes valores:\n",
    "\n",
    "- Open\n",
    "- High\n",
    "- Low\n",
    "- Close\n",
    "- Adj Close"
   ]
  },
  {
   "cell_type": "code",
   "execution_count": 22,
   "id": "c3796af8",
   "metadata": {},
   "outputs": [],
   "source": [
    "x = df.iloc[:, 0:5].values\n",
    "y = df.iloc[:, 4].values"
   ]
  },
  {
   "cell_type": "code",
   "execution_count": 23,
   "id": "d8ff0717",
   "metadata": {},
   "outputs": [
    {
     "data": {
      "text/plain": [
       "(2416, 5)"
      ]
     },
     "execution_count": 23,
     "metadata": {},
     "output_type": "execute_result"
    }
   ],
   "source": [
    "x.shape"
   ]
  },
  {
   "cell_type": "code",
   "execution_count": 52,
   "id": "b56f8d62",
   "metadata": {},
   "outputs": [
    {
     "data": {
      "text/plain": [
       "(2416,)"
      ]
     },
     "execution_count": 52,
     "metadata": {},
     "output_type": "execute_result"
    }
   ],
   "source": [
    "y.shape"
   ]
  },
  {
   "cell_type": "code",
   "execution_count": null,
   "id": "d890d880",
   "metadata": {},
   "outputs": [],
   "source": [
    "Se convierten los valores de y a valores categóricos"
   ]
  },
  {
   "cell_type": "code",
   "execution_count": 53,
   "id": "9e4d1553",
   "metadata": {},
   "outputs": [
    {
     "name": "stdout",
     "output_type": "stream",
     "text": [
      "[ 112  109   73 ... 2222 2223 2224]\n"
     ]
    }
   ],
   "source": [
    "lab = preprocessing.LabelEncoder()\n",
    "y = lab.fit_transform(y)\n",
    "\n",
    "print(y)"
   ]
  },
  {
   "cell_type": "markdown",
   "id": "90e6c42c",
   "metadata": {},
   "source": [
    "Se dividen los datos de prueba y entrenamiento."
   ]
  },
  {
   "cell_type": "code",
   "execution_count": 26,
   "id": "5fdb5225",
   "metadata": {},
   "outputs": [],
   "source": [
    "x_train, x_test, y_train, y_test = train_test_split(x, y, test_size= 0.26, random_state=0)  "
   ]
  },
  {
   "cell_type": "code",
   "execution_count": 27,
   "id": "71fd22e2",
   "metadata": {},
   "outputs": [],
   "source": [
    "st_x= StandardScaler()    \n",
    "x_train= st_x.fit_transform(x_train)    \n",
    "x_test= st_x.transform(x_test)   "
   ]
  },
  {
   "cell_type": "markdown",
   "id": "25ba398d",
   "metadata": {},
   "source": [
    "### Paso 2: \n",
    "\n",
    "Construir los árboles de decisión"
   ]
  },
  {
   "cell_type": "markdown",
   "id": "d50ed646",
   "metadata": {},
   "source": [
    "Primero se evalua un modelo de Random Forest con clasificador, este creará 3 submuestras de evaluación, y luego sacará el promedio de cada una, con esto ayuda a la presición de la predicción y previene el sobre ajuste."
   ]
  },
  {
   "cell_type": "code",
   "execution_count": 28,
   "id": "6c735c01",
   "metadata": {},
   "outputs": [
    {
     "data": {
      "text/plain": [
       "RandomForestClassifier(criterion='entropy', n_estimators=10)"
      ]
     },
     "execution_count": 28,
     "metadata": {},
     "output_type": "execute_result"
    }
   ],
   "source": [
    "model = RandomForestClassifier(n_estimators= 10, criterion=\"entropy\")  \n",
    "model.fit(x_train, y_train)  "
   ]
  },
  {
   "cell_type": "code",
   "execution_count": 29,
   "id": "3d6eb1e5",
   "metadata": {},
   "outputs": [
    {
     "name": "stdout",
     "output_type": "stream",
     "text": [
      "[1019  259  117 1886  913 1033  178   84 1211 2127 1128 1698  403  619\n",
      "   37 2058  628 1582  248 1200 2150 1952 1158 2013 1809  779 2005 1664\n",
      " 1256 1409  191  403  374 1225 2193 1125 1084  663 1918 1122 1827  531\n",
      "   95 1045  277 1275  860  477 1848 1661 1265 1749  514 1077 1727 1310\n",
      "  485 1341    2  580 1221  463 1571 1929  201  252 1432 1225   58  408\n",
      "  420  747 1926  100  450 1801 1832   11   56 1422 1943 1112  584 1078\n",
      "  523 2021  514 2212   78 1155  263 1964  543 1402  756 1293 2050  354\n",
      "  270  583  445 1901 1530 2109 1213  314  860  875 1505  174 1268 2098\n",
      " 1247 2178 1314  714  976 1591 1728   32 1084 1674 1127  198 2080 2129\n",
      " 1135 2011 1909   38  875 2216   23 1639 1203 2044 2027 1420  963 1005\n",
      "  214 2085 2154  870   86  179  243  908 1230  645 1409  365  485  104\n",
      "   55  301   23  847 2176  180 1579  324 1321 1107  435 1162 2090 1897\n",
      " 1755 1652 1667 1797  998 1233 1886 2133 1173 2181  509 2058 1338  253\n",
      " 1505  687  344 1383  671   23   17 1185 2094  311 1803 1701 1997 1099\n",
      " 1309  557 1221 1930  353 1635  506 1610 1471  761 2123  107 1964 1791\n",
      "  712  514 1708 1343 1612 1559  158 2210  208  536  876  623 1792  535\n",
      "  208 1443  423   12  865 1352 2149 1713 1534 1409 1242 1260 1759  275\n",
      "  979 2011 1213  309 1523 1672  947   14  523  178  217  633 2080 1973\n",
      "  719  468  194 1166  613  887  328 2169 2164  268 1546 1891  459 1019\n",
      "  810 1505 1651 1982  829  730  541  472  979 1260  827  803 1499 1430\n",
      " 1261 1552 2101  363 1460  487  948  503 1617 1595  108 1793   41  681\n",
      "  227 1086 1509 1772 1803 2207  374  700 1373 1379 2129 1793  531  737\n",
      " 1447  798 1352  972  501 1772  695 1718 1492  311  380  654  287  217\n",
      " 1759  204  702 2189  972 1469 1496 1523  873 1617  276   41   92  228\n",
      " 1809 1230  633  935 1523  590  792 1203  180 1247  445  414  125  231\n",
      "  291 1378 1461 1096 1069  730  890 1427  166  529  911 1361  580  503\n",
      " 2003 1430 1163  172 1564 2098  529 1858 1109 1634  723  962  222 1712\n",
      "  773  891 1971 2001  240 1989  500 1034  978  238 1498 1357 1453  913\n",
      " 1428 2193 1509 1044 1399 1724 1309 2050  168  948 1366   23 1522  774\n",
      " 1317 1184  120  733 1836 1381   99 1706 1256 1299 2129 1549 1213   55\n",
      "  291  145 2098  844 1243 1388  442  940  682   56  127 1047  302  185\n",
      "  140 1221 1499  444   61 1929  778 1191  198 1190 1854  134  596 1690\n",
      "  659 1349  705  832  463  577  899  287 1926  297 1179 1261 1644 1301\n",
      " 1514   87  807 1562  284  732    8  745  592 1534 2130 1861 1610 1729\n",
      " 1970  968  281  816 2113  198  796  403 1027  600  833  659  584  463\n",
      "  847 1308 1639 2042  154 2158 1043 2220  876  120 1184 1238 1325 1238\n",
      " 1035  962 1238  410 1759  383  547 1883  778 1352 2133    2 1001  612\n",
      " 1848 1664 2124  240  571 1119  893 1594  531  130  231 2188 1143 2198\n",
      " 1890 2207  860 1427  979 1368  823 1444  836  767  658 1367 1601  766\n",
      "  847  764  428 2074 1280 2073  911  340  989 1926  711  641 2087  403\n",
      "   48  376  275 1221  730  302  346 2117   92  682  861  325  275 1820\n",
      " 1074 1633  163 1230  377 1589 1869  277 1039  125  263 1818  714  836\n",
      " 1072 1763 1141 1691    8 1908  449  531 1269  495  536 1138 1804 1958\n",
      "  913  389  321  159 1419 2132 2176 1898 1042   67 1180 1145 1093  116\n",
      " 1749  574 1925 2057 1856  360  933 2150   33 1032  187  836  281]\n"
     ]
    }
   ],
   "source": [
    "y_pred= model.predict(x_test)  \n",
    "print(y_pred)"
   ]
  },
  {
   "cell_type": "markdown",
   "id": "5ba2e250",
   "metadata": {},
   "source": [
    "### Paso 3"
   ]
  },
  {
   "cell_type": "markdown",
   "id": "8b271484",
   "metadata": {},
   "source": [
    "Al igual que su versión de clasificación crea 3 submuestras y retorna un promedio, su diferencia está en que utiliza los hiperparámetros descritos para comparar los resultados."
   ]
  },
  {
   "cell_type": "code",
   "execution_count": 30,
   "id": "ff978616",
   "metadata": {},
   "outputs": [],
   "source": [
    "model = RandomForestRegressor(n_estimators=500, random_state=42, min_samples_split=2, min_samples_leaf=1, max_depth=10, bootstrap=True)\n",
    "model.fit(x_train, y_train)\n",
    "predict = model.predict(x_test)"
   ]
  },
  {
   "cell_type": "code",
   "execution_count": 31,
   "id": "29c3783b",
   "metadata": {},
   "outputs": [
    {
     "name": "stdout",
     "output_type": "stream",
     "text": [
      "Fitting 3 folds for each of 50 candidates, totalling 150 fits\n",
      "{'random_state': 42, 'n_estimators': 500, 'min_samples_split': 2, 'min_samples_leaf': 3, 'max_depth': 9}\n"
     ]
    }
   ],
   "source": [
    "grid_rf = {\n",
    "'n_estimators': [20, 50, 100, 500, 1000],  \n",
    "'max_depth': np.arange(1, 15, 1),  \n",
    "'min_samples_split': [2, 10, 9], \n",
    "'min_samples_leaf': np.arange(1, 15, 2, dtype=int),  \n",
    "'random_state': [1, 2, 30, 42]\n",
    "}\n",
    "\n",
    "rscv = RandomizedSearchCV(estimator=model, param_distributions=grid_rf, cv=3, n_jobs=-1, verbose=2, n_iter=50)\n",
    "rscv_fit = rscv.fit(x_train, y_train)\n",
    "best_parameters = rscv_fit.best_params_\n",
    "print(best_parameters)"
   ]
  },
  {
   "cell_type": "code",
   "execution_count": 32,
   "id": "7406a856",
   "metadata": {},
   "outputs": [
    {
     "name": "stdout",
     "output_type": "stream",
     "text": [
      "[1008.4914      259.16247937  117.23417431 1883.79711429  914.41208571\n",
      " 1037.62920952  176.12737302   84.99800476 1210.4249     2121.3358381\n",
      " 1131.11222381 1685.68486429  399.3030619   618.44948571   36.88801905\n",
      " 2070.70668333  623.2458     1583.13426667  246.93615476 1213.16170476\n",
      " 2149.87640952 1954.67134127 1158.40892857 2016.39072857 1837.8473\n",
      "  781.20603333 2006.40958571 1670.26552857 1247.28166667 1403.91843095\n",
      "  191.57106667  402.6052      373.70490476 1220.29270238 2192.08056667\n",
      " 1202.47966667 1082.35953333  667.18713095 1918.40792381 1123.08754762\n",
      " 1825.97799048  527.39861905   96.91648571 1050.4011      275.34396667\n",
      " 1276.35765476  848.78242222  476.33873651 1848.75729524 1663.50475\n",
      " 1265.36271667 1754.00605556  516.00922857 1075.33312381 1728.19708492\n",
      " 1327.10645714  484.83912958 1341.04866667    6.50377619  581.14964286\n",
      " 1225.29563333  465.35851111 1567.23009048 1935.9416      200.99503095\n",
      "  252.0666381  1440.77646667 1277.33867619   57.15237619  410.25935238\n",
      "  424.91296667  747.19958571 1928.81693333  103.1501619   453.64093333\n",
      " 1800.35628333 1840.4095        9.71460952   58.8664     1430.03430952\n",
      " 1976.19467857 1113.67310476  585.08523333 1078.29805714  522.25629683\n",
      " 2015.79452857  514.46202619 2213.5686       78.10570238 1156.70228095\n",
      "  263.78294603 1960.76773333  553.80301905 1396.26859048  758.15733333\n",
      " 1293.31396905 2045.85274048  353.69382143  270.08505952  585.2019\n",
      "  446.47686667 1901.95015079 1532.97079524 2113.41204286 1203.35064286\n",
      "  313.52663492  833.93466667  873.98526905 1506.05246667  173.46223333\n",
      " 1269.14384286 2097.81306667 1259.41860794 2181.11736667 1318.06045714\n",
      "  717.81269048  974.23333333 1592.58578413 1732.9266       37.82273571\n",
      " 1084.72793333 1675.06376667 1127.04619524  196.82754762 2096.45216667\n",
      " 2141.34433333 1134.76782381 2018.34946667 1897.96773333   34.34572143\n",
      "  877.08315    2214.86617619   21.25677619 1648.70702063 1199.28067619\n",
      " 2033.73580952 2026.03614603 1420.03116349  968.36364762 1003.88232222\n",
      "  214.40570099 2086.75451825 2157.13072857  901.35894286   89.2931\n",
      "  178.95412655  246.63591032  906.47410714 1228.79886667  650.92244048\n",
      " 1409.93383333  365.4072381   484.63311053  103.95378095   51.01799206\n",
      "  292.73935238   24.47475714  845.96512222 2175.55732857  183.6145373\n",
      " 1578.45609762  331.59599762 1326.37252381 1109.02212381  436.30715\n",
      " 1168.33458571 2144.21639524 1896.50248333 1757.45702222 1645.3627\n",
      " 1670.92608095 1798.0264619   999.40721984 1232.72792222 1854.02025238\n",
      " 2124.6610381  1171.39580635 2182.65133333  507.92408333 2077.64708254\n",
      " 1339.6153      252.47526667 1541.76314444  686.94968016  345.38967857\n",
      " 1382.021       671.92248571   22.38710476   18.64956667 1180.05227143\n",
      " 2102.01486667  311.35236667 1803.64855714 1696.02738571 2006.59438095\n",
      " 1091.0956     1313.17243333  560.49862381 1221.82085238 1971.00671429\n",
      "  348.41297143 1634.58763333  505.37198333 1614.58678333 1467.92222857\n",
      "  758.195      2126.95445556  103.44892857 1991.84273333 1796.07817143\n",
      "  713.13098571  514.67528333 1726.4359873  1340.22616667 1628.08958571\n",
      " 1544.60973968  156.86074762 2210.8398      210.05738016  534.57776667\n",
      "  883.31623333  622.715      1791.22883333  536.77998333  202.74319286\n",
      " 1448.97694286  424.72446667   14.32993095  865.23376667 1347.20275714\n",
      " 2133.92724127 1701.21549048 1533.06149524 1411.42239048 1254.12553333\n",
      " 1251.87736667 1763.52156667  275.88686667  974.32723333 1986.85929524\n",
      " 1210.60596667  309.36303333 1522.75890952 1666.6836      949.87367619\n",
      "   12.83709762  523.18254921  178.61565512  218.71115087  631.29516667\n",
      " 2091.5109619  1966.26787619  721.57733333  468.35535418  196.63274762\n",
      " 1164.21755397  613.69678968  882.8278      328.37618254 2168.02238571\n",
      " 2145.32172381  264.95953254 1536.5345     1885.35211429  458.38326746\n",
      " 1011.09513333  813.79170476 1517.8108746  1655.70108254 1980.74773333\n",
      "  836.53459524  730.34407143  545.8917      472.8706842   972.14573333\n",
      " 1251.92786667  817.96326667  823.02880476 1496.30974048 1422.92147857\n",
      " 1268.19994286 1536.94965    2186.4682      360.00569762 1472.44750952\n",
      "  514.65169286  948.37970952  509.05176429 1625.80154762 1575.70171587\n",
      "  109.0341     1786.90638095   41.35829762  679.25007619  226.67550447\n",
      " 1084.6996     1482.5473     1774.43626825 1816.40768095 2207.53208254\n",
      "  369.41133333  704.01021429 1332.55170952 1377.97715714 2143.5095619\n",
      " 1786.12427619  526.94275714  742.04295238 1454.07291905  805.65460476\n",
      " 1341.77533333  970.71683333  502.85592381 1782.28219286  695.34573333\n",
      " 1720.92663333 1504.55193333  309.85076667  378.62213571  653.1914881\n",
      "  287.61338095  222.02684892 1757.30004762  204.87573571  699.65485974\n",
      " 2188.39493333  995.11580238 1480.36575952 1500.95606667 1522.76339048\n",
      "  876.80196667 1618.63089286  276.20043333   41.64420952   90.09352857\n",
      "  227.62612937 1835.92433333 1229.26096667  634.33517143  935.63599286\n",
      " 1537.05093333  588.091       792.30220952 1208.14220476  180.54906861\n",
      " 1251.96053333  441.92998413  413.9702119   119.05194048  232.48573492\n",
      "  295.22731667 1488.72575238 1446.50723333 1103.222      1071.24754286\n",
      "  727.3379      890.3448     1436.0585      166.35085952  532.7989\n",
      "  911.0783     1362.2352      581.68170952  508.17431667 2003.71787619\n",
      " 1420.44211746 1209.34453333  186.93953333 1567.87772381 2111.95010952\n",
      "  536.736      1867.46738571 1100.4929619  1638.93112857  729.27360476\n",
      "  962.8657      220.80427749 1714.84267143  770.91969048  892.33484762\n",
      " 1981.52199524 1995.27610238  238.535421   1988.85350476  511.77220952\n",
      " 1035.52317143  983.96674286  238.35610195 1498.54855238 1358.38548571\n",
      " 1463.43588095  911.99937143 1431.39418095 2190.4984     1492.04064286\n",
      " 1048.44293333 1407.63372381 1728.27042063 1305.36148095 2032.68154762\n",
      "  166.24836429  945.04542857 1365.54390476   24.44959048 1525.75731905\n",
      "  807.6703     1316.12712857 1181.26371667  118.0828119   733.52465476\n",
      " 1838.72916667 1384.06150952   98.84312143 1712.15132857 1248.28686667\n",
      " 1303.01916667 2141.37097619 1547.93838968 1213.25020476   53.76645079\n",
      "  296.60881667  144.47771905 2097.93103333  851.78037937 1244.59086667\n",
      " 1386.98842857  440.2513      940.08479048  684.00970238   57.30594286\n",
      "  132.75330079 1052.58520238  303.26656667  184.78563333  137.13934762\n",
      " 1225.56613333 1498.11615238  448.97919524   61.71361429 1933.99703333\n",
      "  780.37306667 1197.2353      195.52743333 1194.79618571 1857.78597143\n",
      "  134.6354881   597.62405476 1692.47544286  660.08206667 1349.48873571\n",
      "  714.53259524  827.05566667  462.5028119   573.98872857  895.28993095\n",
      "  287.07885    1930.15246667  303.10857143 1188.14896667 1260.6117246\n",
      " 1651.70125397 1304.27372381 1512.06938095   88.6751619   815.14713333\n",
      " 1564.6604      287.49942143  724.74163333    7.72985238  745.45062381\n",
      "  593.23203333 1536.55166667 2129.26227778 1851.37710476 1618.62329286\n",
      " 1735.17379286 1952.47830794  966.63261429  283.89481797  812.06106667\n",
      " 2109.56888095  204.25558333  802.88998095  402.47110952 1026.36187143\n",
      "  600.04045476  832.2621      657.35808095  586.20383333  462.90444524\n",
      "  852.25509365 1311.1656381  1635.6683     2032.0858619   151.9983381\n",
      " 2158.42476667 1037.42216667 2219.32985476  883.13323333  118.41236429\n",
      " 1198.91470952 1238.32473571 1324.94838889 1263.62481667 1034.94522381\n",
      "  960.09346667 1240.07521429  405.04958571 1765.63022143  393.48695714\n",
      "  550.05233333 1886.62068571  773.89456905 1335.34455    2141.09283333\n",
      "    2.70664286 1013.31560952  611.51407778 1848.70819524 1666.52181667\n",
      " 2117.92484048  240.5686575   571.86414286 1119.32924762  889.82816667\n",
      " 1587.86751905  530.44213333  138.39291429  230.83481429 2186.94202857\n",
      " 1142.34031111 2199.73708333 1891.63483333 2207.72586667  857.93854762\n",
      " 1420.41740794  983.349      1368.6374      829.20586667 1487.59868095\n",
      "  836.07429524  767.46030952  656.67004762 1366.59236667 1610.0814619\n",
      "  772.19310714  845.1301      765.96945714  420.39393009 2086.81185159\n",
      " 1271.62784286 2060.80513571  904.46610238  340.97305952  988.2641\n",
      " 1930.0026      712.41965714  644.2631254  2079.34182857  394.87049524\n",
      "   48.04553463  371.17538095  275.90563333 1221.06808571  729.7636381\n",
      "  303.3453      351.36734286 2117.91744048   93.34736429  679.60907619\n",
      "  862.98595022  324.91298175  276.05486667 1832.5671     1096.19736667\n",
      " 1644.01476667  163.55529286 1231.1607      377.40054524 1592.29375079\n",
      " 1870.39843333  277.32186667 1040.53817619  125.87678571  260.86698175\n",
      " 1810.46970476  716.05978571  838.89333333 1078.8952     1762.48703333\n",
      " 1141.20736032 1688.97630476    4.27560952 1896.60486667  453.64126667\n",
      "  531.4564     1269.19727619  495.02380476  537.40143571 1140.31913889\n",
      " 1806.90130714 1957.49412381  908.58955714  398.99589048  321.55308492\n",
      "  159.88756587 1426.22443016 2133.6983746  2181.6572     1899.3513619\n",
      " 1042.95917857   64.41513095 1190.90697619 1144.74232222 1119.60124762\n",
      "  117.90494762 1744.02293571  574.56316667 1924.98803254 2063.34843333\n",
      " 1860.97780952  360.44306905  929.34204286 2149.71144762   32.42598095\n",
      " 1035.3478381   190.0881      844.2125      280.81137857]\n",
      "(629,)\n"
     ]
    }
   ],
   "source": [
    "print(predict)\n",
    "print(predict.shape)"
   ]
  },
  {
   "cell_type": "markdown",
   "id": "52ba28dd",
   "metadata": {},
   "source": [
    "## Métricas de medición"
   ]
  },
  {
   "cell_type": "markdown",
   "id": "5e4a4b12",
   "metadata": {},
   "source": [
    "#### MSE & RMSE"
   ]
  },
  {
   "cell_type": "markdown",
   "id": "2013cdb7",
   "metadata": {},
   "source": [
    "El MSE es una función que mide la probabilidad de que a una variable le ocurra cierta transformación ante ciertas condiciones esto corresponde al valor esperado de la perdida cuadrática, la diferencia se debe a la aleatoriedad de la muestra o porque el estimador carece de datos que le permita producir una estimación con mayor presición. \n",
    "\n",
    "En el presente caso vemos que los valores no superan 2, lo significa que su grado de predicción se acerca a los datos originales y mantiene la linealidad esperada "
   ]
  },
  {
   "cell_type": "code",
   "execution_count": 33,
   "id": "adee2e41",
   "metadata": {},
   "outputs": [
    {
     "data": {
      "text/plain": [
       "1.882777112914845"
      ]
     },
     "execution_count": 33,
     "metadata": {},
     "output_type": "execute_result"
    }
   ],
   "source": [
    "mean_squared_error(y_test, predict)"
   ]
  },
  {
   "cell_type": "code",
   "execution_count": 34,
   "id": "a9c88604",
   "metadata": {},
   "outputs": [
    {
     "data": {
      "text/plain": [
       "1.372143255245182"
      ]
     },
     "execution_count": 34,
     "metadata": {},
     "output_type": "execute_result"
    }
   ],
   "source": [
    "mean_squared_error(y_test, predict, squared=False)"
   ]
  },
  {
   "cell_type": "code",
   "execution_count": 35,
   "id": "cb8fe824",
   "metadata": {},
   "outputs": [
    {
     "data": {
      "text/plain": [
       "1.882777112914845"
      ]
     },
     "execution_count": 35,
     "metadata": {},
     "output_type": "execute_result"
    }
   ],
   "source": [
    "mean_squared_error(y_test, predict)"
   ]
  },
  {
   "cell_type": "code",
   "execution_count": 55,
   "id": "63ba3890",
   "metadata": {},
   "outputs": [
    {
     "name": "stdout",
     "output_type": "stream",
     "text": [
      "1.171385186539928\n"
     ]
    }
   ],
   "source": [
    "MSE = mean_squared_error(y_test, predict, squared=False)\n",
    "RMSE = math.sqrt(MSE)\n",
    "\n",
    "print(RMSE)"
   ]
  },
  {
   "cell_type": "markdown",
   "id": "fc312651",
   "metadata": {},
   "source": [
    "#### MAPE\n"
   ]
  },
  {
   "cell_type": "markdown",
   "id": "e3d6cf7a",
   "metadata": {},
   "source": [
    "La métrica de MAPE obtuvo un porcentaje de error en la precisión de 0.368%, lo cual es un buen indicador de la precisión del modelo"
   ]
  },
  {
   "cell_type": "code",
   "execution_count": 56,
   "id": "a9931dff",
   "metadata": {},
   "outputs": [
    {
     "data": {
      "text/plain": [
       "0.003688886365818953"
      ]
     },
     "execution_count": 56,
     "metadata": {},
     "output_type": "execute_result"
    }
   ],
   "source": [
    "mean_absolute_percentage_error(y_test, predict)"
   ]
  },
  {
   "cell_type": "code",
   "execution_count": 39,
   "id": "f2e7ba92",
   "metadata": {},
   "outputs": [
    {
     "name": "stdout",
     "output_type": "stream",
     "text": [
      "Mean Absolute Error: 1.0789\n",
      "Mean Squared Error: 1.8828\n",
      "Root Mean Squared Error: 1.3721\n",
      "(R^2) Score: 1.0\n",
      "Train Score : 100.00% and Test Score : 100.00% using Random Tree Regressor.\n",
      "Accuracy: 99.63 %.\n"
     ]
    }
   ],
   "source": [
    "print(\"Mean Absolute Error:\", round(metrics.mean_absolute_error(y_test, predict), 4))\n",
    "print(\"Mean Squared Error:\", round(metrics.mean_squared_error(y_test, predict), 4))\n",
    "print(\"Root Mean Squared Error:\", round(np.sqrt(metrics.mean_squared_error(y_test, predict)), 4))\n",
    "print(\"(R^2) Score:\", round(metrics.r2_score(y_test, predict), 4))\n",
    "print(f'Train Score : {model.score(x_train, y_train) * 100:.2f}% and Test Score : {model.score(x_test, y_test) * 100:.2f}% using Random Tree Regressor.')\n",
    "errors = abs(predict - y_test)\n",
    "mape = 100 * (errors / y_test)\n",
    "accuracy = 100 - np.mean(mape)\n",
    "print('Accuracy:', round(accuracy, 2), '%.') "
   ]
  },
  {
   "cell_type": "code",
   "execution_count": 40,
   "id": "b29ad7e6",
   "metadata": {},
   "outputs": [
    {
     "name": "stdout",
     "output_type": "stream",
     "text": [
      "[1008.4914      259.16247937  117.23417431 1883.79711429  914.41208571\n",
      " 1037.62920952  176.12737302   84.99800476 1210.4249     2121.3358381\n",
      " 1131.11222381 1685.68486429  399.3030619   618.44948571   36.88801905\n",
      " 2070.70668333  623.2458     1583.13426667  246.93615476 1213.16170476\n",
      " 2149.87640952 1954.67134127 1158.40892857 2016.39072857 1837.8473\n",
      "  781.20603333 2006.40958571 1670.26552857 1247.28166667 1403.91843095\n",
      "  191.57106667  402.6052      373.70490476 1220.29270238 2192.08056667\n",
      " 1202.47966667 1082.35953333  667.18713095 1918.40792381 1123.08754762\n",
      " 1825.97799048  527.39861905   96.91648571 1050.4011      275.34396667\n",
      " 1276.35765476  848.78242222  476.33873651 1848.75729524 1663.50475\n",
      " 1265.36271667 1754.00605556  516.00922857 1075.33312381 1728.19708492\n",
      " 1327.10645714  484.83912958 1341.04866667    6.50377619  581.14964286\n",
      " 1225.29563333  465.35851111 1567.23009048 1935.9416      200.99503095\n",
      "  252.0666381  1440.77646667 1277.33867619   57.15237619  410.25935238\n",
      "  424.91296667  747.19958571 1928.81693333  103.1501619   453.64093333\n",
      " 1800.35628333 1840.4095        9.71460952   58.8664     1430.03430952\n",
      " 1976.19467857 1113.67310476  585.08523333 1078.29805714  522.25629683\n",
      " 2015.79452857  514.46202619 2213.5686       78.10570238 1156.70228095\n",
      "  263.78294603 1960.76773333  553.80301905 1396.26859048  758.15733333\n",
      " 1293.31396905 2045.85274048  353.69382143  270.08505952  585.2019\n",
      "  446.47686667 1901.95015079 1532.97079524 2113.41204286 1203.35064286\n",
      "  313.52663492  833.93466667  873.98526905 1506.05246667  173.46223333\n",
      " 1269.14384286 2097.81306667 1259.41860794 2181.11736667 1318.06045714\n",
      "  717.81269048  974.23333333 1592.58578413 1732.9266       37.82273571\n",
      " 1084.72793333 1675.06376667 1127.04619524  196.82754762 2096.45216667\n",
      " 2141.34433333 1134.76782381 2018.34946667 1897.96773333   34.34572143\n",
      "  877.08315    2214.86617619   21.25677619 1648.70702063 1199.28067619\n",
      " 2033.73580952 2026.03614603 1420.03116349  968.36364762 1003.88232222\n",
      "  214.40570099 2086.75451825 2157.13072857  901.35894286   89.2931\n",
      "  178.95412655  246.63591032  906.47410714 1228.79886667  650.92244048\n",
      " 1409.93383333  365.4072381   484.63311053  103.95378095   51.01799206\n",
      "  292.73935238   24.47475714  845.96512222 2175.55732857  183.6145373\n",
      " 1578.45609762  331.59599762 1326.37252381 1109.02212381  436.30715\n",
      " 1168.33458571 2144.21639524 1896.50248333 1757.45702222 1645.3627\n",
      " 1670.92608095 1798.0264619   999.40721984 1232.72792222 1854.02025238\n",
      " 2124.6610381  1171.39580635 2182.65133333  507.92408333 2077.64708254\n",
      " 1339.6153      252.47526667 1541.76314444  686.94968016  345.38967857\n",
      " 1382.021       671.92248571   22.38710476   18.64956667 1180.05227143\n",
      " 2102.01486667  311.35236667 1803.64855714 1696.02738571 2006.59438095\n",
      " 1091.0956     1313.17243333  560.49862381 1221.82085238 1971.00671429\n",
      "  348.41297143 1634.58763333  505.37198333 1614.58678333 1467.92222857\n",
      "  758.195      2126.95445556  103.44892857 1991.84273333 1796.07817143\n",
      "  713.13098571  514.67528333 1726.4359873  1340.22616667 1628.08958571\n",
      " 1544.60973968  156.86074762 2210.8398      210.05738016  534.57776667\n",
      "  883.31623333  622.715      1791.22883333  536.77998333  202.74319286\n",
      " 1448.97694286  424.72446667   14.32993095  865.23376667 1347.20275714\n",
      " 2133.92724127 1701.21549048 1533.06149524 1411.42239048 1254.12553333\n",
      " 1251.87736667 1763.52156667  275.88686667  974.32723333 1986.85929524\n",
      " 1210.60596667  309.36303333 1522.75890952 1666.6836      949.87367619\n",
      "   12.83709762  523.18254921  178.61565512  218.71115087  631.29516667\n",
      " 2091.5109619  1966.26787619  721.57733333  468.35535418  196.63274762\n",
      " 1164.21755397  613.69678968  882.8278      328.37618254 2168.02238571\n",
      " 2145.32172381  264.95953254 1536.5345     1885.35211429  458.38326746\n",
      " 1011.09513333  813.79170476 1517.8108746  1655.70108254 1980.74773333\n",
      "  836.53459524  730.34407143  545.8917      472.8706842   972.14573333\n",
      " 1251.92786667  817.96326667  823.02880476 1496.30974048 1422.92147857\n",
      " 1268.19994286 1536.94965    2186.4682      360.00569762 1472.44750952\n",
      "  514.65169286  948.37970952  509.05176429 1625.80154762 1575.70171587\n",
      "  109.0341     1786.90638095   41.35829762  679.25007619  226.67550447\n",
      " 1084.6996     1482.5473     1774.43626825 1816.40768095 2207.53208254\n",
      "  369.41133333  704.01021429 1332.55170952 1377.97715714 2143.5095619\n",
      " 1786.12427619  526.94275714  742.04295238 1454.07291905  805.65460476\n",
      " 1341.77533333  970.71683333  502.85592381 1782.28219286  695.34573333\n",
      " 1720.92663333 1504.55193333  309.85076667  378.62213571  653.1914881\n",
      "  287.61338095  222.02684892 1757.30004762  204.87573571  699.65485974\n",
      " 2188.39493333  995.11580238 1480.36575952 1500.95606667 1522.76339048\n",
      "  876.80196667 1618.63089286  276.20043333   41.64420952   90.09352857\n",
      "  227.62612937 1835.92433333 1229.26096667  634.33517143  935.63599286\n",
      " 1537.05093333  588.091       792.30220952 1208.14220476  180.54906861\n",
      " 1251.96053333  441.92998413  413.9702119   119.05194048  232.48573492\n",
      "  295.22731667 1488.72575238 1446.50723333 1103.222      1071.24754286\n",
      "  727.3379      890.3448     1436.0585      166.35085952  532.7989\n",
      "  911.0783     1362.2352      581.68170952  508.17431667 2003.71787619\n",
      " 1420.44211746 1209.34453333  186.93953333 1567.87772381 2111.95010952\n",
      "  536.736      1867.46738571 1100.4929619  1638.93112857  729.27360476\n",
      "  962.8657      220.80427749 1714.84267143  770.91969048  892.33484762\n",
      " 1981.52199524 1995.27610238  238.535421   1988.85350476  511.77220952\n",
      " 1035.52317143  983.96674286  238.35610195 1498.54855238 1358.38548571\n",
      " 1463.43588095  911.99937143 1431.39418095 2190.4984     1492.04064286\n",
      " 1048.44293333 1407.63372381 1728.27042063 1305.36148095 2032.68154762\n",
      "  166.24836429  945.04542857 1365.54390476   24.44959048 1525.75731905\n",
      "  807.6703     1316.12712857 1181.26371667  118.0828119   733.52465476\n",
      " 1838.72916667 1384.06150952   98.84312143 1712.15132857 1248.28686667\n",
      " 1303.01916667 2141.37097619 1547.93838968 1213.25020476   53.76645079\n",
      "  296.60881667  144.47771905 2097.93103333  851.78037937 1244.59086667\n",
      " 1386.98842857  440.2513      940.08479048  684.00970238   57.30594286\n",
      "  132.75330079 1052.58520238  303.26656667  184.78563333  137.13934762\n",
      " 1225.56613333 1498.11615238  448.97919524   61.71361429 1933.99703333\n",
      "  780.37306667 1197.2353      195.52743333 1194.79618571 1857.78597143\n",
      "  134.6354881   597.62405476 1692.47544286  660.08206667 1349.48873571\n",
      "  714.53259524  827.05566667  462.5028119   573.98872857  895.28993095\n",
      "  287.07885    1930.15246667  303.10857143 1188.14896667 1260.6117246\n",
      " 1651.70125397 1304.27372381 1512.06938095   88.6751619   815.14713333\n",
      " 1564.6604      287.49942143  724.74163333    7.72985238  745.45062381\n",
      "  593.23203333 1536.55166667 2129.26227778 1851.37710476 1618.62329286\n",
      " 1735.17379286 1952.47830794  966.63261429  283.89481797  812.06106667\n",
      " 2109.56888095  204.25558333  802.88998095  402.47110952 1026.36187143\n",
      "  600.04045476  832.2621      657.35808095  586.20383333  462.90444524\n",
      "  852.25509365 1311.1656381  1635.6683     2032.0858619   151.9983381\n",
      " 2158.42476667 1037.42216667 2219.32985476  883.13323333  118.41236429\n",
      " 1198.91470952 1238.32473571 1324.94838889 1263.62481667 1034.94522381\n",
      "  960.09346667 1240.07521429  405.04958571 1765.63022143  393.48695714\n",
      "  550.05233333 1886.62068571  773.89456905 1335.34455    2141.09283333\n",
      "    2.70664286 1013.31560952  611.51407778 1848.70819524 1666.52181667\n",
      " 2117.92484048  240.5686575   571.86414286 1119.32924762  889.82816667\n",
      " 1587.86751905  530.44213333  138.39291429  230.83481429 2186.94202857\n",
      " 1142.34031111 2199.73708333 1891.63483333 2207.72586667  857.93854762\n",
      " 1420.41740794  983.349      1368.6374      829.20586667 1487.59868095\n",
      "  836.07429524  767.46030952  656.67004762 1366.59236667 1610.0814619\n",
      "  772.19310714  845.1301      765.96945714  420.39393009 2086.81185159\n",
      " 1271.62784286 2060.80513571  904.46610238  340.97305952  988.2641\n",
      " 1930.0026      712.41965714  644.2631254  2079.34182857  394.87049524\n",
      "   48.04553463  371.17538095  275.90563333 1221.06808571  729.7636381\n",
      "  303.3453      351.36734286 2117.91744048   93.34736429  679.60907619\n",
      "  862.98595022  324.91298175  276.05486667 1832.5671     1096.19736667\n",
      " 1644.01476667  163.55529286 1231.1607      377.40054524 1592.29375079\n",
      " 1870.39843333  277.32186667 1040.53817619  125.87678571  260.86698175\n",
      " 1810.46970476  716.05978571  838.89333333 1078.8952     1762.48703333\n",
      " 1141.20736032 1688.97630476    4.27560952 1896.60486667  453.64126667\n",
      "  531.4564     1269.19727619  495.02380476  537.40143571 1140.31913889\n",
      " 1806.90130714 1957.49412381  908.58955714  398.99589048  321.55308492\n",
      "  159.88756587 1426.22443016 2133.6983746  2181.6572     1899.3513619\n",
      " 1042.95917857   64.41513095 1190.90697619 1144.74232222 1119.60124762\n",
      "  117.90494762 1744.02293571  574.56316667 1924.98803254 2063.34843333\n",
      " 1860.97780952  360.44306905  929.34204286 2149.71144762   32.42598095\n",
      " 1035.3478381   190.0881      844.2125      280.81137857]\n"
     ]
    }
   ],
   "source": [
    "print(predict)"
   ]
  },
  {
   "cell_type": "markdown",
   "id": "bdde4a12",
   "metadata": {},
   "source": [
    "## Predicciones"
   ]
  },
  {
   "cell_type": "markdown",
   "id": "0874ea23",
   "metadata": {},
   "source": [
    "#### Predicción a un año"
   ]
  },
  {
   "cell_type": "code",
   "execution_count": 41,
   "id": "545ac0da",
   "metadata": {},
   "outputs": [],
   "source": [
    "predictions = pd.DataFrame({\"Predictions\": predict}, index=pd.date_range(start=df.index[-1], periods=len(predict), freq=\"D\"))\n",
    "predictions.to_csv(\"Predicted-price-data.csv\")\n",
    "#colllects future days from predicted values\n",
    "oneyear_df = pd.DataFrame(predictions[:252])\n",
    "oneyear_df.to_csv(\"predicción_anual.csv\")\n",
    "threemonths_df = pd.DataFrame(predictions[:63])\n",
    "threemonths_df.to_csv(\"predicción_3_meses.csv\")\n",
    "tendays_df = pd.DataFrame(predictions[:10])\n",
    "tendays_df.to_csv(\"predicción_5_días.csv\")\n"
   ]
  },
  {
   "cell_type": "code",
   "execution_count": 42,
   "id": "735a9a28",
   "metadata": {},
   "outputs": [
    {
     "name": "stdout",
     "output_type": "stream",
     "text": [
      "Precio de compra y fecha\n",
      "    Unnamed: 0  Predictions\n",
      "58  2020-04-01     6.503776\n",
      "Precio de Venta y Fecha\n",
      "     Unnamed: 0  Predictions\n",
      "131  2020-06-13  2214.866176\n"
     ]
    }
   ],
   "source": [
    "oneyear_df_pred = pd.read_csv(\"predicción_anual.csv\")\n",
    "buy_price = min(oneyear_df_pred[\"Predictions\"])\n",
    "sell_price = max(oneyear_df_pred[\"Predictions\"])\n",
    "oneyear_buy = oneyear_df_pred.loc[oneyear_df_pred[\"Predictions\"] == buy_price]\n",
    "oneyear_sell = oneyear_df_pred.loc[oneyear_df_pred[\"Predictions\"] == sell_price]\n",
    "print(\"Precio de compra y fecha\")\n",
    "print(oneyear_buy)\n",
    "print(\"Precio de Venta y Fecha\")\n",
    "print(oneyear_sell)"
   ]
  },
  {
   "cell_type": "code",
   "execution_count": 43,
   "id": "96ddac3b",
   "metadata": {},
   "outputs": [
    {
     "data": {
      "image/png": "[encoded data removed]",
      "text/plain": [
       "<Figure size 720x360 with 1 Axes>"
      ]
     },
     "metadata": {
      "needs_background": "light"
     },
     "output_type": "display_data"
    }
   ],
   "source": [
    "oneyear_df_pred[\"Predictions\"].plot(figsize=(10, 5), title=\"Predicción anual\", color=\"orange\")\n",
    "plt.xlabel(\"Date\")\n",
    "plt.ylabel(\"Price\")\n",
    "plt.legend()\n",
    "plt.show()"
   ]
  },
  {
   "cell_type": "markdown",
   "id": "90635910",
   "metadata": {},
   "source": [
    "#### Predicción a tres meses"
   ]
  },
  {
   "cell_type": "code",
   "execution_count": 44,
   "id": "f4c10a19",
   "metadata": {},
   "outputs": [
    {
     "name": "stdout",
     "output_type": "stream",
     "text": [
      "Precio de Compra y Fecha\n",
      "    Unnamed: 0  Predictions\n",
      "58  2020-04-01     6.503776\n",
      "Precio de Venta y Fecha\n",
      "    Unnamed: 0  Predictions\n",
      "34  2020-03-08  2192.080567\n"
     ]
    }
   ],
   "source": [
    "onemonth_df_pred = pd.read_csv(\"predicción_3_meses.csv\")\n",
    "buy_price = min(onemonth_df_pred[\"Predictions\"])\n",
    "sell_price = max(onemonth_df_pred[\"Predictions\"])\n",
    "onemonth_buy = onemonth_df_pred.loc[onemonth_df_pred[\"Predictions\"] == buy_price]\n",
    "onemonth_sell = onemonth_df_pred.loc[onemonth_df_pred[\"Predictions\"] == sell_price]\n",
    "\n",
    "print(\"Precio de Compra y Fecha\")\n",
    "print(onemonth_buy)\n",
    "print(\"Precio de Venta y Fecha\")\n",
    "print(onemonth_sell)"
   ]
  },
  {
   "cell_type": "code",
   "execution_count": 45,
   "id": "2b762584",
   "metadata": {},
   "outputs": [
    {
     "data": {
      "image/png": "[encoded data removed]",
      "text/plain": [
       "<Figure size 720x360 with 1 Axes>"
      ]
     },
     "metadata": {
      "needs_background": "light"
     },
     "output_type": "display_data"
    }
   ],
   "source": [
    "onemonth_df_pred[\"Predictions\"].plot(figsize=(10, 5), title=\"Predicciones para los próximos 3 meses\", color=\"orange\")\n",
    "plt.xlabel(\"Date\")\n",
    "plt.ylabel(\"Price\")\n",
    "plt.legend()\n",
    "plt.show()"
   ]
  },
  {
   "cell_type": "code",
   "execution_count": 46,
   "id": "1663b0e3",
   "metadata": {},
   "outputs": [
    {
     "name": "stdout",
     "output_type": "stream",
     "text": [
      "Precio de Compra y Fecha\n",
      "   Unnamed: 0  Predictions\n",
      "7  2020-02-10    84.998005\n",
      "Precio de Venta y Fecha\n",
      "   Unnamed: 0  Predictions\n",
      "9  2020-02-12  2121.335838\n"
     ]
    }
   ],
   "source": [
    "fivedays_df_pred = pd.read_csv(\"predicción_5_días.csv\")\n",
    "buy_price = min(fivedays_df_pred[\"Predictions\"])\n",
    "sell_price = max(fivedays_df_pred[\"Predictions\"])\n",
    "fivedays_buy = fivedays_df_pred.loc[fivedays_df_pred[\"Predictions\"] == buy_price]\n",
    "fivedays_sell = fivedays_df_pred.loc[fivedays_df_pred[\"Predictions\"] == sell_price]\n",
    "print(\"Precio de Compra y Fecha\")\n",
    "print(fivedays_buy)\n",
    "print(\"Precio de Venta y Fecha\")\n",
    "print(fivedays_sell)"
   ]
  },
  {
   "cell_type": "markdown",
   "id": "7c0691f0",
   "metadata": {},
   "source": [
    "#### Predicción a 10 días"
   ]
  },
  {
   "cell_type": "code",
   "execution_count": 47,
   "id": "374cd26a",
   "metadata": {},
   "outputs": [
    {
     "data": {
      "image/png": "[encoded data removed]",
      "text/plain": [
       "<Figure size 720x360 with 1 Axes>"
      ]
     },
     "metadata": {
      "needs_background": "light"
     },
     "output_type": "display_data"
    }
   ],
   "source": [
    "fivedays_df_pred[\"Predictions\"].plot(figsize=(10, 5), title=\"Predicciones para los próximos 10 días\", color=\"orange\")\n",
    "plt.xlabel(\"Date\")\n",
    "plt.ylabel(\"Price\")\n",
    "plt.legend()\n",
    "plt.show()"
   ]
  }
 ],
 "metadata": {
  "kernelspec": {
   "display_name": "Python 3 (ipykernel)",
   "language": "python",
   "name": "python3"
  },
  "language_info": {
   "codemirror_mode": {
    "name": "ipython",
    "version": 3
   },
   "file_extension": ".py",
   "mimetype": "text/x-python",
   "name": "python",
   "nbconvert_exporter": "python",
   "pygments_lexer": "ipython3",
   "version": "3.9.7"
  }
 },
 "nbformat": 4,
 "nbformat_minor": 5
}
